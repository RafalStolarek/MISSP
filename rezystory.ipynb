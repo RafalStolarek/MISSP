{
 "cells": [
  {
   "cell_type": "code",
   "execution_count": 19,
   "metadata": {},
   "outputs": [],
   "source": [
    "from pulp import *"
   ]
  },
  {
   "cell_type": "code",
   "execution_count": 90,
   "metadata": {},
   "outputs": [
    {
     "name": "stdout",
     "output_type": "stream",
     "text": [
      "Status: Optimal\n",
      "Moc minimalna: 52.0W\n",
      "Rezystancje: {'R1': 2.0, 'R2': 10.0, 'R3': 2.0, 'R4': 7.0, 'R5': 1.0}\n",
      "Prądy: {'I1': 3.0, 'I2': 1.0, 'I3': 2.0, 'I4': 1.0, 'I5': 3.0}\n"
     ]
    }
   ],
   "source": [
    "\n",
    "prob = LpProblem(\"Moc na mostku\",LpMinimize)\n",
    "I1=LpVariable(\"I1\",0)\n",
    "I2=LpVariable(\"I2\",0)\n",
    "I3=LpVariable(\"I3\",0)\n",
    "I4=LpVariable(\"I4\",0)\n",
    "I5=LpVariable(\"I5\",0)\n",
    "U = [6,10,4,7,3]\n",
    "prob += U[0]*I1 + U[1]*I2 + U[2]*I3 + U[3]*I4 + U[4]*I5\n",
    "prob += I1 == I3+I4\n",
    "prob += I2 == I5-I3\n",
    "\n",
    "prob += I1 >= 3 \n",
    "prob += I1 <= 5\n",
    "prob += I2 >= 1\n",
    "prob += I2 <= 3\n",
    "prob += I3 >= 1\n",
    "prob += I3 <= 3\n",
    "prob += I4 >= 1\n",
    "prob += I4 <= 3\n",
    "prob += I5 >= 3\n",
    "prob += I5 <= 5\n",
    "\n",
    "prob.writeLP(\"moc_rezystory.lp\")\n",
    "prob.solve()\n",
    "a=0\n",
    "rezo={}\n",
    "prady={}\n",
    "for x in prob.variables():\n",
    "    rezo[\"R\"+str(a+1)] = U[a]/x.varValue\n",
    "    prady[x.name] = x.varValue\n",
    "    a =a + 1\n",
    " \n",
    " \n",
    "print(\"Status:\", LpStatus[prob.status])\n",
    "print(\"Moc minimalna: {}W\".format(value(prob.objective)))\n",
    "print(\"Rezystancje: {}\".format(rezo))\n",
    "print(\"Prądy: {}\".format(prady))"
   ]
  },
  {
   "cell_type": "code",
   "execution_count": null,
   "metadata": {},
   "outputs": [],
   "source": []
  }
 ],
 "metadata": {
  "kernelspec": {
   "display_name": "Python 3",
   "language": "python",
   "name": "python3"
  },
  "language_info": {
   "codemirror_mode": {
    "name": "ipython",
    "version": 3
   },
   "file_extension": ".py",
   "mimetype": "text/x-python",
   "name": "python",
   "nbconvert_exporter": "python",
   "pygments_lexer": "ipython3",
   "version": "3.7.6"
  }
 },
 "nbformat": 4,
 "nbformat_minor": 4
}
