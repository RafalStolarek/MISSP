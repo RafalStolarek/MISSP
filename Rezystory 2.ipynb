{
 "cells": [
  {
   "cell_type": "code",
   "execution_count": 1,
   "metadata": {},
   "outputs": [],
   "source": [
    "from pulp import *"
   ]
  },
  {
   "cell_type": "code",
   "execution_count": 31,
   "metadata": {},
   "outputs": [
    {
     "name": "stdout",
     "output_type": "stream",
     "text": [
      "Status: Optimal\n",
      "Prąd max: 3.6A\n",
      "Prądy kolejno: {'I1': 1.5428571, 'I2': 2.0571429, 'I3': 3.6, 'I4': 1.6, 'I5': 2.0}\n",
      "Napiecia: {'U1': 12.3428568, 'U2': 12.3428574, 'U3': 14.4, 'U4': 16.0, 'U5': 16.0}\n"
     ]
    }
   ],
   "source": [
    "prob = LpProblem(\"Max prad na rezystorach\",LpMaximize)\n",
    "I1=LpVariable(\"I1\",0)\n",
    "I2=LpVariable(\"I2\",0)\n",
    "I3=LpVariable(\"I3\",0)\n",
    "I4=LpVariable(\"I4\",0)\n",
    "I5=LpVariable(\"I5\",0)\n",
    "\n",
    "R = [8,6,4,10,8]\n",
    "prob += I4+I5\n",
    "prob += I1+I2==I3\n",
    "prob += I3==I4+I5\n",
    "prob += I1*R[0] == I2*R[1] \n",
    "prob += I4*R[3] == I5*R[4]\n",
    "\n",
    "prob += I1 >= 0 \n",
    "prob += I1 <= 2\n",
    "prob += I2 >= 0\n",
    "prob += I2 <= 3\n",
    "prob += I3 >= 0\n",
    "prob += I3 <= 4\n",
    "prob += I4 >= 0\n",
    "prob += I4 <= 2\n",
    "prob += I5 >= 0\n",
    "prob += I5 <= 2\n",
    "\n",
    "prob.writeLP(\"prad_rezystory.lp\")\n",
    "prob.solve()\n",
    "a=0\n",
    "napiecia={}\n",
    "prady={}\n",
    "for x in prob.variables():\n",
    "    prady[x.name] = x.varValue\n",
    "    napiecia[\"U\"+str(a+1)] = R[a]*x.varValue\n",
    "    a =a + 1\n",
    " \n",
    " \n",
    "print(\"Status:\", LpStatus[prob.status])\n",
    "print(\"Prąd max: {}A\".format(value(prob.objective)))\n",
    "print(\"Prądy kolejno: {}\".format(prady))\n",
    "print(\"Napiecia: {}\".format(napiecia))\n"
   ]
  },
  {
   "cell_type": "code",
   "execution_count": null,
   "metadata": {},
   "outputs": [],
   "source": []
  },
  {
   "cell_type": "code",
   "execution_count": null,
   "metadata": {},
   "outputs": [],
   "source": []
  }
 ],
 "metadata": {
  "kernelspec": {
   "display_name": "Python 3",
   "language": "python",
   "name": "python3"
  },
  "language_info": {
   "codemirror_mode": {
    "name": "ipython",
    "version": 3
   },
   "file_extension": ".py",
   "mimetype": "text/x-python",
   "name": "python",
   "nbconvert_exporter": "python",
   "pygments_lexer": "ipython3",
   "version": "3.7.6"
  }
 },
 "nbformat": 4,
 "nbformat_minor": 4
}
